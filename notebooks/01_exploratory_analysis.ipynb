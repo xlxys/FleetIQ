{
 "cells": [
  {
   "cell_type": "code",
   "execution_count": 3,
   "id": "3846a736",
   "metadata": {},
   "outputs": [],
   "source": [
    "import pandas as pd\n",
    "\n",
    "def extract_data(file_path):\n",
    "    \"\"\"\n",
    "    Extracts data from a CSV file and returns it as a DataFrame.\n",
    "    \n",
    "    Args:\n",
    "        file_path (str): The path to the CSV file.\n",
    "        \n",
    "    Returns:\n",
    "        pd.DataFrame: The extracted data.\n",
    "    \"\"\"\n",
    "    try:\n",
    "        data = pd.read_csv(file_path)\n",
    "        return data\n",
    "    except Exception as e:\n",
    "        print(f\"Error reading the file: {e}\")\n",
    "        return None \n",
    "\n",
    "\n",
    "file_path = '../data/raw/fleet_synthetic_data.csv'\n",
    "file_path_cleaned = '../data/processed/fleet_synthetic_cleaned_data.csv'\n",
    "\n",
    "data = extract_data(file_path)\n",
    "data_cleaned = extract_data(file_path_cleaned)\n",
    "\n"
   ]
  },
  {
   "cell_type": "code",
   "execution_count": null,
   "id": "f6f8a1ca",
   "metadata": {},
   "outputs": [],
   "source": []
  }
 ],
 "metadata": {
  "kernelspec": {
   "display_name": ".venv",
   "language": "python",
   "name": "python3"
  },
  "language_info": {
   "codemirror_mode": {
    "name": "ipython",
    "version": 3
   },
   "file_extension": ".py",
   "mimetype": "text/x-python",
   "name": "python",
   "nbconvert_exporter": "python",
   "pygments_lexer": "ipython3",
   "version": "3.12.10"
  }
 },
 "nbformat": 4,
 "nbformat_minor": 5
}
